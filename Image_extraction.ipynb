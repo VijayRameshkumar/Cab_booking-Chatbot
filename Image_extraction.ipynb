{
  "nbformat": 4,
  "nbformat_minor": 0,
  "metadata": {
    "colab": {
      "name": "Image_extraction",
      "provenance": [],
      "include_colab_link": true
    },
    "kernelspec": {
      "name": "python3",
      "display_name": "Python 3"
    }
  },
  "cells": [
    {
      "cell_type": "markdown",
      "metadata": {
        "id": "view-in-github",
        "colab_type": "text"
      },
      "source": [
        "<a href=\"https://colab.research.google.com/github/VijayRameshkumar/Cab_booking-Chatbot/blob/master/Image_extraction.ipynb\" target=\"_parent\"><img src=\"https://colab.research.google.com/assets/colab-badge.svg\" alt=\"Open In Colab\"/></a>"
      ]
    },
    {
      "cell_type": "code",
      "metadata": {
        "id": "PDSPEm87lBGV",
        "colab_type": "code",
        "outputId": "ee027cf7-093b-4744-ac58-1671d2a8693c",
        "colab": {
          "base_uri": "https://localhost:8080/",
          "height": 34
        }
      },
      "source": [
        "from google.colab import drive\n",
        "drive.mount('/content/drive')"
      ],
      "execution_count": 206,
      "outputs": [
        {
          "output_type": "stream",
          "text": [
            "Drive already mounted at /content/drive; to attempt to forcibly remount, call drive.mount(\"/content/drive\", force_remount=True).\n"
          ],
          "name": "stdout"
        }
      ]
    },
    {
      "cell_type": "code",
      "metadata": {
        "id": "GRrCLJ_1mVB-",
        "colab_type": "code",
        "outputId": "83fb5041-8360-4d14-cf04-3bd3dc54d43d",
        "colab": {
          "base_uri": "https://localhost:8080/",
          "height": 394
        }
      },
      "source": [
        "!pip install --upgrade google-cloud-vision\n",
        "!pip install pytesseract\n",
        "from google.cloud import vision\n",
        "import pandas as pd\n",
        "import numpy as np\n",
        "import io\n",
        "import glob\n",
        "import PIL\n",
        "from PIL import Image\n",
        "import pytesseract\n",
        "import argparse\n",
        "import cv2\n",
        "import os\n",
        "import matplotlib.pyplot as plt\n"
      ],
      "execution_count": 210,
      "outputs": [
        {
          "output_type": "stream",
          "text": [
            "Requirement already up-to-date: google-cloud-vision in /usr/local/lib/python3.6/dist-packages (0.39.0)\n",
            "Requirement already satisfied, skipping upgrade: google-api-core[grpc]<2.0.0dev,>=1.14.0 in /usr/local/lib/python3.6/dist-packages (from google-cloud-vision) (1.14.2)\n",
            "Requirement already satisfied, skipping upgrade: six>=1.10.0 in /usr/local/lib/python3.6/dist-packages (from google-api-core[grpc]<2.0.0dev,>=1.14.0->google-cloud-vision) (1.12.0)\n",
            "Requirement already satisfied, skipping upgrade: protobuf>=3.4.0 in /usr/local/lib/python3.6/dist-packages (from google-api-core[grpc]<2.0.0dev,>=1.14.0->google-cloud-vision) (3.7.1)\n",
            "Requirement already satisfied, skipping upgrade: googleapis-common-protos<2.0dev,>=1.6.0 in /usr/local/lib/python3.6/dist-packages (from google-api-core[grpc]<2.0.0dev,>=1.14.0->google-cloud-vision) (1.6.0)\n",
            "Requirement already satisfied, skipping upgrade: pytz in /usr/local/lib/python3.6/dist-packages (from google-api-core[grpc]<2.0.0dev,>=1.14.0->google-cloud-vision) (2018.9)\n",
            "Requirement already satisfied, skipping upgrade: requests<3.0.0dev,>=2.18.0 in /usr/local/lib/python3.6/dist-packages (from google-api-core[grpc]<2.0.0dev,>=1.14.0->google-cloud-vision) (2.21.0)\n",
            "Requirement already satisfied, skipping upgrade: setuptools>=34.0.0 in /usr/local/lib/python3.6/dist-packages (from google-api-core[grpc]<2.0.0dev,>=1.14.0->google-cloud-vision) (41.2.0)\n",
            "Requirement already satisfied, skipping upgrade: google-auth<2.0dev,>=0.4.0 in /usr/local/lib/python3.6/dist-packages (from google-api-core[grpc]<2.0.0dev,>=1.14.0->google-cloud-vision) (1.4.2)\n",
            "Requirement already satisfied, skipping upgrade: grpcio<2.0dev,>=1.8.2; extra == \"grpc\" in /usr/local/lib/python3.6/dist-packages (from google-api-core[grpc]<2.0.0dev,>=1.14.0->google-cloud-vision) (1.15.0)\n",
            "Requirement already satisfied, skipping upgrade: idna<2.9,>=2.5 in /usr/local/lib/python3.6/dist-packages (from requests<3.0.0dev,>=2.18.0->google-api-core[grpc]<2.0.0dev,>=1.14.0->google-cloud-vision) (2.8)\n",
            "Requirement already satisfied, skipping upgrade: chardet<3.1.0,>=3.0.2 in /usr/local/lib/python3.6/dist-packages (from requests<3.0.0dev,>=2.18.0->google-api-core[grpc]<2.0.0dev,>=1.14.0->google-cloud-vision) (3.0.4)\n",
            "Requirement already satisfied, skipping upgrade: urllib3<1.25,>=1.21.1 in /usr/local/lib/python3.6/dist-packages (from requests<3.0.0dev,>=2.18.0->google-api-core[grpc]<2.0.0dev,>=1.14.0->google-cloud-vision) (1.24.3)\n",
            "Requirement already satisfied, skipping upgrade: certifi>=2017.4.17 in /usr/local/lib/python3.6/dist-packages (from requests<3.0.0dev,>=2.18.0->google-api-core[grpc]<2.0.0dev,>=1.14.0->google-cloud-vision) (2019.9.11)\n",
            "Requirement already satisfied, skipping upgrade: rsa>=3.1.4 in /usr/local/lib/python3.6/dist-packages (from google-auth<2.0dev,>=0.4.0->google-api-core[grpc]<2.0.0dev,>=1.14.0->google-cloud-vision) (4.0)\n",
            "Requirement already satisfied, skipping upgrade: cachetools>=2.0.0 in /usr/local/lib/python3.6/dist-packages (from google-auth<2.0dev,>=0.4.0->google-api-core[grpc]<2.0.0dev,>=1.14.0->google-cloud-vision) (3.1.1)\n",
            "Requirement already satisfied, skipping upgrade: pyasn1-modules>=0.2.1 in /usr/local/lib/python3.6/dist-packages (from google-auth<2.0dev,>=0.4.0->google-api-core[grpc]<2.0.0dev,>=1.14.0->google-cloud-vision) (0.2.6)\n",
            "Requirement already satisfied, skipping upgrade: pyasn1>=0.1.3 in /usr/local/lib/python3.6/dist-packages (from rsa>=3.1.4->google-auth<2.0dev,>=0.4.0->google-api-core[grpc]<2.0.0dev,>=1.14.0->google-cloud-vision) (0.4.7)\n",
            "Requirement already satisfied: pytesseract in /usr/local/lib/python3.6/dist-packages (0.3.0)\n",
            "Requirement already satisfied: Pillow in /usr/local/lib/python3.6/dist-packages (from pytesseract) (4.3.0)\n",
            "Requirement already satisfied: olefile in /usr/local/lib/python3.6/dist-packages (from Pillow->pytesseract) (0.46)\n"
          ],
          "name": "stdout"
        }
      ]
    },
    {
      "cell_type": "code",
      "metadata": {
        "id": "E9AG7mWhnSa0",
        "colab_type": "code",
        "colab": {}
      },
      "source": [
        "src_path = []\n",
        "for path in glob.glob(\"/content/drive/My Drive/ml_test/*.jpg\"):\n",
        "  src_path.append(path)"
      ],
      "execution_count": 0,
      "outputs": []
    },
    {
      "cell_type": "code",
      "metadata": {
        "id": "z0Z1J1_B-0Ae",
        "colab_type": "code",
        "colab": {
          "base_uri": "https://localhost:8080/",
          "height": 333
        },
        "outputId": "a6c1ff2b-c211-4a6a-bb23-356373a390db"
      },
      "source": [
        "address = []\n",
        "items_names = []\n",
        "objects = []\n",
        "\n",
        "\n",
        "def preprocessing():\n",
        "\n",
        "  for items in src_path:\n",
        "\n",
        "    print(items)   \n",
        "\n",
        "    # object-Recognition\n",
        "\n",
        "    im = Image.open(items)\n",
        "    im = np.array(im)\n",
        "    objects.append(im)\n",
        "\n",
        "    # Resize image\n",
        "\n",
        "    new_width  = 200\n",
        "    new_height = 300\n",
        "    img = im.resize((new_width, new_height), Image.ANTIALIAS)\n",
        "\n",
        "    # cropping Address only\n",
        "\n",
        "    im = img.crop((0, 0, 200, 100))\n",
        "    address.append(im)\n",
        "    im = np.array(im)\n",
        "\n",
        "    # cropping items_names\n",
        "\n",
        "    left = 10\n",
        "    top = 200\n",
        "    right = 200\n",
        "    bottom = 300\n",
        "\n",
        "    im = img.crop((left, top, right, bottom))\n",
        "    items_names.append(im)\n",
        "    im = np.array(im)\n",
        "\n",
        "temp =  preprocessing()"
      ],
      "execution_count": 225,
      "outputs": [
        {
          "output_type": "stream",
          "text": [
            "/content/drive/My Drive/ml_test/20191005_212700646_iOS.jpg\n"
          ],
          "name": "stdout"
        },
        {
          "output_type": "error",
          "ename": "TypeError",
          "evalue": "ignored",
          "traceback": [
            "\u001b[0;31m---------------------------------------------------------------------------\u001b[0m",
            "\u001b[0;31mTypeError\u001b[0m                                 Traceback (most recent call last)",
            "\u001b[0;32m<ipython-input-225-2048204d88f8>\u001b[0m in \u001b[0;36m<module>\u001b[0;34m()\u001b[0m\n\u001b[1;32m     39\u001b[0m     \u001b[0mim\u001b[0m \u001b[0;34m=\u001b[0m \u001b[0mnp\u001b[0m\u001b[0;34m.\u001b[0m\u001b[0marray\u001b[0m\u001b[0;34m(\u001b[0m\u001b[0mim\u001b[0m\u001b[0;34m)\u001b[0m\u001b[0;34m\u001b[0m\u001b[0;34m\u001b[0m\u001b[0m\n\u001b[1;32m     40\u001b[0m \u001b[0;34m\u001b[0m\u001b[0m\n\u001b[0;32m---> 41\u001b[0;31m \u001b[0mtemp\u001b[0m \u001b[0;34m=\u001b[0m  \u001b[0mpreprocessing\u001b[0m\u001b[0;34m(\u001b[0m\u001b[0;34m)\u001b[0m\u001b[0;34m\u001b[0m\u001b[0;34m\u001b[0m\u001b[0m\n\u001b[0m",
            "\u001b[0;32m<ipython-input-225-2048204d88f8>\u001b[0m in \u001b[0;36mpreprocessing\u001b[0;34m()\u001b[0m\n\u001b[1;32m     20\u001b[0m     \u001b[0mnew_width\u001b[0m  \u001b[0;34m=\u001b[0m \u001b[0;36m200\u001b[0m\u001b[0;34m\u001b[0m\u001b[0;34m\u001b[0m\u001b[0m\n\u001b[1;32m     21\u001b[0m     \u001b[0mnew_height\u001b[0m \u001b[0;34m=\u001b[0m \u001b[0;36m300\u001b[0m\u001b[0;34m\u001b[0m\u001b[0;34m\u001b[0m\u001b[0m\n\u001b[0;32m---> 22\u001b[0;31m     \u001b[0mimg\u001b[0m \u001b[0;34m=\u001b[0m \u001b[0mim\u001b[0m\u001b[0;34m.\u001b[0m\u001b[0mresize\u001b[0m\u001b[0;34m(\u001b[0m\u001b[0;34m(\u001b[0m\u001b[0mnew_width\u001b[0m\u001b[0;34m,\u001b[0m \u001b[0mnew_height\u001b[0m\u001b[0;34m)\u001b[0m\u001b[0;34m,\u001b[0m \u001b[0mImage\u001b[0m\u001b[0;34m.\u001b[0m\u001b[0mANTIALIAS\u001b[0m\u001b[0;34m)\u001b[0m\u001b[0;34m\u001b[0m\u001b[0;34m\u001b[0m\u001b[0m\n\u001b[0m\u001b[1;32m     23\u001b[0m \u001b[0;34m\u001b[0m\u001b[0m\n\u001b[1;32m     24\u001b[0m     \u001b[0;31m# cropping Address only\u001b[0m\u001b[0;34m\u001b[0m\u001b[0;34m\u001b[0m\u001b[0;34m\u001b[0m\u001b[0m\n",
            "\u001b[0;31mTypeError\u001b[0m: 'tuple' object cannot be interpreted as an integer"
          ]
        }
      ]
    },
    {
      "cell_type": "code",
      "metadata": {
        "id": "wdkCRDxtO5Mh",
        "colab_type": "code",
        "colab": {
          "base_uri": "https://localhost:8080/",
          "height": 34
        },
        "outputId": "bf9b890b-0482-4a1c-84ef-68d01138529a"
      },
      "source": [
        "print(len(address), len(items_names), len(objects), len(src_path))"
      ],
      "execution_count": 222,
      "outputs": [
        {
          "output_type": "stream",
          "text": [
            "28 28 28 28\n"
          ],
          "name": "stdout"
        }
      ]
    },
    {
      "cell_type": "code",
      "metadata": {
        "id": "TCCG8OL1UoF1",
        "colab_type": "code",
        "colab": {
          "base_uri": "https://localhost:8080/",
          "height": 493
        },
        "outputId": "b7a44350-235c-402d-a5de-f62ee6d17fd4"
      },
      "source": [
        "address"
      ],
      "execution_count": 223,
      "outputs": [
        {
          "output_type": "execute_result",
          "data": {
            "text/plain": [
              "[<PIL.Image.Image image mode=RGB size=200x100 at 0x7F6EA0205BE0>,\n",
              " <PIL.Image.Image image mode=RGB size=200x100 at 0x7F6EA02647F0>,\n",
              " <PIL.Image.Image image mode=RGB size=200x100 at 0x7F6EA01FC7B8>,\n",
              " <PIL.Image.Image image mode=RGB size=200x100 at 0x7F6EA021A710>,\n",
              " <PIL.Image.Image image mode=RGB size=200x100 at 0x7F6EA022A8D0>,\n",
              " <PIL.Image.Image image mode=RGB size=200x100 at 0x7F6EA022A860>,\n",
              " <PIL.Image.Image image mode=RGB size=200x100 at 0x7F6EA0224F28>,\n",
              " <PIL.Image.Image image mode=RGB size=200x100 at 0x7F6EA0224F98>,\n",
              " <PIL.Image.Image image mode=RGB size=200x100 at 0x7F6EA0224978>,\n",
              " <PIL.Image.Image image mode=RGB size=200x100 at 0x7F6EA0229C88>,\n",
              " <PIL.Image.Image image mode=RGB size=200x100 at 0x7F6EA0229E80>,\n",
              " <PIL.Image.Image image mode=RGB size=200x100 at 0x7F6EA0229828>,\n",
              " <PIL.Image.Image image mode=RGB size=200x100 at 0x7F6EA0229DD8>,\n",
              " <PIL.Image.Image image mode=RGB size=200x100 at 0x7F6EA02290F0>,\n",
              " <PIL.Image.Image image mode=RGB size=200x100 at 0x7F6EA02298D0>,\n",
              " <PIL.Image.Image image mode=RGB size=200x100 at 0x7F6EA0229EF0>,\n",
              " <PIL.Image.Image image mode=RGB size=200x100 at 0x7F6EA01928D0>,\n",
              " <PIL.Image.Image image mode=RGB size=200x100 at 0x7F6EA0192E10>,\n",
              " <PIL.Image.Image image mode=RGB size=200x100 at 0x7F6EA0192940>,\n",
              " <PIL.Image.Image image mode=RGB size=200x100 at 0x7F6EA0192828>,\n",
              " <PIL.Image.Image image mode=RGB size=200x100 at 0x7F6EA0192D30>,\n",
              " <PIL.Image.Image image mode=RGB size=200x100 at 0x7F6EA0192B00>,\n",
              " <PIL.Image.Image image mode=RGB size=200x100 at 0x7F6EA0192CF8>,\n",
              " <PIL.Image.Image image mode=RGB size=200x100 at 0x7F6EA01925C0>,\n",
              " <PIL.Image.Image image mode=RGB size=200x100 at 0x7F6EA0192128>,\n",
              " <PIL.Image.Image image mode=RGB size=200x100 at 0x7F6EA0175C88>,\n",
              " <PIL.Image.Image image mode=RGB size=200x100 at 0x7F6EA0175E80>,\n",
              " <PIL.Image.Image image mode=RGB size=200x100 at 0x7F6EA0175C18>]"
            ]
          },
          "metadata": {
            "tags": []
          },
          "execution_count": 223
        }
      ]
    },
    {
      "cell_type": "code",
      "metadata": {
        "id": "DwVkE7LZVRkB",
        "colab_type": "code",
        "colab": {}
      },
      "source": [
        ""
      ],
      "execution_count": 0,
      "outputs": []
    }
  ]
}